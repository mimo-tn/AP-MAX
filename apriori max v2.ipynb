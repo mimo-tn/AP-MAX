{
 "cells": [
  {
   "cell_type": "code",
   "execution_count": 1,
   "id": "533fec28",
   "metadata": {},
   "outputs": [],
   "source": [
    "import itertools"
   ]
  },
  {
   "cell_type": "code",
   "execution_count": 2,
   "id": "fd1e7dbf",
   "metadata": {},
   "outputs": [],
   "source": [
    "dataset = [\n",
    "    ['A', 'B'],\n",
    "    ['A', 'C'],\n",
    "    ['A', 'D'],\n",
    "    ['B', 'C', 'D'],\n",
    "    ['A', 'B', 'C', 'D'],\n",
    "]"
   ]
  },
  {
   "cell_type": "code",
   "execution_count": 3,
   "id": "7bfb83a4",
   "metadata": {},
   "outputs": [],
   "source": [
    "def generate_frequent_1_itemsets(dataset, min_support):\n",
    "    frequent_1_itemsets = {}\n",
    "    for transaction in dataset:\n",
    "        for item in transaction:\n",
    "            if item in frequent_1_itemsets:\n",
    "                frequent_1_itemsets[item] += 1\n",
    "            else:\n",
    "                frequent_1_itemsets[item] = 1\n",
    "\n",
    "    frequent_1_itemsets = {item: support for item, support in frequent_1_itemsets.items() if support >= min_support}\n",
    "    return frequent_1_itemsets"
   ]
  },
  {
   "cell_type": "code",
   "execution_count": 4,
   "id": "a1a3bda2",
   "metadata": {},
   "outputs": [],
   "source": [
    "def generer_combinaisons(liste):\n",
    "    combinaisons = []\n",
    "    if(len(liste)>0):\n",
    "        for r in range(len(liste) - 1, len(liste)):\n",
    "            combinaisons.extend(list(itertools.combinations(liste, r)))\n",
    "    combinaisons_uniques = set(combinaisons)\n",
    "    return combinaisons_uniques"
   ]
  },
  {
   "cell_type": "code",
   "execution_count": 5,
   "id": "e4627829",
   "metadata": {},
   "outputs": [],
   "source": [
    "def calculate_support(dataset, itemsets):\n",
    "    itemset_counts = {}\n",
    "    for transaction in dataset:\n",
    "        for itemset in itemsets:\n",
    "            if set(itemset).issubset(transaction):\n",
    "                if tuple(itemset) in itemset_counts:\n",
    "                    itemset_counts[tuple(itemset)] += 1\n",
    "                else:\n",
    "                    itemset_counts[tuple(itemset)] = 1\n",
    "    return {itemset: support for itemset, support in itemset_counts.items()}\n",
    "\n"
   ]
  },
  {
   "cell_type": "code",
   "execution_count": 6,
   "id": "1fd9359f",
   "metadata": {},
   "outputs": [],
   "source": [
    "def recu(current_itemset=None):\n",
    "    global generation\n",
    "    global updated_itemset\n",
    "    #global frequent_itemsets\n",
    "    if current_itemset =={()}:\n",
    "        return 1   \n",
    "    else:\n",
    "        for itemset in current_itemset:\n",
    "            generation = generer_combinaisons(list(itemset))\n",
    "            print(generation)\n",
    "            # Recursively find frequent itemsets\n",
    "            current_itemset= generation.copy()\n",
    "            #updated_itemset = generation.copy()\n",
    "            #updated_itemset.add(itemset)\n",
    "            #frequent_itemsets=\n",
    "            #frequent_itemsets=recu(updated_itemset)\n",
    "        return recu(current_itemset)"
   ]
  },
  {
   "cell_type": "code",
   "execution_count": 7,
   "id": "c311a04f",
   "metadata": {},
   "outputs": [],
   "source": [
    "def apriori(dataset, min_support):\n",
    "    frequent_itemsets = {}\n",
    "    k = 1\n",
    "    frequent_1_itemsets = generate_frequent_1_itemsets(dataset, min_support)\n",
    "    frequent_itemsets.update(frequent_1_itemsets)\n",
    "    sorted_frequent_itemsets = dict(sorted(frequent_itemsets.items(), key=lambda item:item[1], reverse=True))\n",
    "    print(sorted_frequent_itemsets)\n",
    "    l=list(sorted_frequent_itemsets.keys())\n",
    "    for i in range(len(l)):\n",
    "        print(l[i])\n",
    "    print(\"Liste des 1-items triée d'une facons décroissante\",list(sorted_frequent_itemsets.keys()))\n",
    "    print(\"support de 1-items \",sorted_frequent_itemsets)\n",
    "    resultat = generer_combinaisons(list(sorted_frequent_itemsets.keys()))\n",
    "    print(\"Génération des premiers subsets\",resultat)\n",
    "    recu(resultat)\n",
    "    for x in resultat :\n",
    "        generation = generer_combinaisons(list(x))\n",
    "        print(generation)\n",
    "    for x in generation :\n",
    "        generation1 = generer_combinaisons(list(x))\n",
    "        print(generation1)\n",
    "    for x in generation1 :\n",
    "        generation2 = generer_combinaisons(list(x))\n",
    "        print(generation2)\n",
    "#    print(resultat1)\n",
    "#    while resultat:\n",
    "    itemset_counts = calculate_support(dataset, resultat)\n",
    "    print(itemset_counts)\n",
    "    itemset_counts = calculate_support(dataset, generation)\n",
    "    print(itemset_counts)\n",
    "    itemset_counts = calculate_support(dataset, generation1)\n",
    "    print(itemset_counts)\n",
    "    itemset_counts = calculate_support(dataset, generation2)\n",
    "    print(itemset_counts)"
   ]
  },
  {
   "cell_type": "code",
   "execution_count": 8,
   "id": "fd0c364e",
   "metadata": {},
   "outputs": [
    {
     "name": "stdout",
     "output_type": "stream",
     "text": [
      "{'A': 4, 'B': 3, 'C': 3, 'D': 3}\n",
      "A\n",
      "B\n",
      "C\n",
      "D\n",
      "Liste des 1-items triée d'une facons décroissante ['A', 'B', 'C', 'D']\n",
      "support de 1-items  {'A': 4, 'B': 3, 'C': 3, 'D': 3}\n",
      "Génération des premiers subsets {('B', 'C', 'D'), ('A', 'B', 'C'), ('A', 'B', 'D'), ('A', 'C', 'D')}\n",
      "{('B', 'C'), ('C', 'D'), ('B', 'D')}\n",
      "{('B', 'C'), ('A', 'B'), ('A', 'C')}\n",
      "{('A', 'D'), ('A', 'B'), ('B', 'D')}\n",
      "{('A', 'D'), ('C', 'D'), ('A', 'C')}\n",
      "{('A',), ('D',)}\n",
      "{('C',), ('D',)}\n",
      "{('A',), ('C',)}\n",
      "{()}\n",
      "{()}\n",
      "{('B', 'C'), ('C', 'D'), ('B', 'D')}\n",
      "{('B', 'C'), ('A', 'B'), ('A', 'C')}\n",
      "{('A', 'D'), ('A', 'B'), ('B', 'D')}\n",
      "{('A', 'D'), ('C', 'D'), ('A', 'C')}\n",
      "{('A',), ('D',)}\n",
      "{('C',), ('D',)}\n",
      "{('A',), ('C',)}\n",
      "{()}\n",
      "{()}\n",
      "{('B', 'C', 'D'): 2, ('A', 'B', 'C'): 1, ('A', 'B', 'D'): 1, ('A', 'C', 'D'): 1}\n",
      "{('A', 'C'): 2, ('A', 'D'): 2, ('C', 'D'): 2}\n",
      "{('A',): 4, ('C',): 3}\n",
      "{(): 5}\n"
     ]
    }
   ],
   "source": [
    "apriori(dataset,2)"
   ]
  },
  {
   "cell_type": "code",
   "execution_count": null,
   "id": "9025609b",
   "metadata": {},
   "outputs": [],
   "source": []
  }
 ],
 "metadata": {
  "kernelspec": {
   "display_name": "Python 3",
   "language": "python",
   "name": "python3"
  },
  "language_info": {
   "codemirror_mode": {
    "name": "ipython",
    "version": 3
   },
   "file_extension": ".py",
   "mimetype": "text/x-python",
   "name": "python",
   "nbconvert_exporter": "python",
   "pygments_lexer": "ipython3",
   "version": "3.8.8"
  }
 },
 "nbformat": 4,
 "nbformat_minor": 5
}
