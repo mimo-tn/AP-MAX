{
 "cells": [
  {
   "cell_type": "code",
   "execution_count": 670,
   "id": "73c66430",
   "metadata": {},
   "outputs": [],
   "source": [
    "import itertools"
   ]
  },
  {
   "cell_type": "code",
   "execution_count": 671,
   "id": "9beff065",
   "metadata": {},
   "outputs": [],
   "source": [
    "dataset = [\n",
    "    ['A', 'B'],\n",
    "    ['A', 'C'],\n",
    "    ['A', 'D'],\n",
    "    ['B', 'C', 'D'],\n",
    "    ['A', 'B', 'C', 'D'],\n",
    "]"
   ]
  },
  {
   "cell_type": "code",
   "execution_count": 672,
   "id": "aee793e7",
   "metadata": {},
   "outputs": [],
   "source": [
    "def generate_frequent_1_itemsets(dataset, min_support):\n",
    "    frequent_1_itemsets = {}\n",
    "    for transaction in dataset:\n",
    "        for item in transaction:\n",
    "            if item in frequent_1_itemsets:\n",
    "                frequent_1_itemsets[item] += 1\n",
    "            else:\n",
    "                frequent_1_itemsets[item] = 1\n",
    "\n",
    "    frequent_1_itemsets = {item: support for item, support in frequent_1_itemsets.items() if support >= min_support}\n",
    "    return frequent_1_itemsets"
   ]
  },
  {
   "cell_type": "code",
   "execution_count": 673,
   "id": "a61882f5",
   "metadata": {},
   "outputs": [],
   "source": [
    "def generer_combinaisons(liste):\n",
    "    combinaisons = []\n",
    "    if(len(liste)>0):\n",
    "        for r in range(len(liste)-1 , len(liste)):\n",
    "            combinaisons.extend(list(itertools.combinations(liste, r)))\n",
    "    combinaisons_uniques = set(combinaisons)\n",
    "    return combinaisons_uniques"
   ]
  },
  {
   "cell_type": "code",
   "execution_count": 674,
   "id": "c3587f50",
   "metadata": {},
   "outputs": [],
   "source": [
    "def calculate_support(dataset, itemsets):\n",
    "    itemset_counts = {}\n",
    "    for transaction in dataset:\n",
    "        for itemset in itemsets:\n",
    "            if set(itemset).issubset(transaction):\n",
    "                if tuple(itemset) in itemset_counts:\n",
    "                    itemset_counts[tuple(itemset)] += 1\n",
    "                else:\n",
    "                    itemset_counts[tuple(itemset)] = 1\n",
    "    return {itemset: support for itemset, support in itemset_counts.items()}\n",
    "\n"
   ]
  },
  {
   "cell_type": "code",
   "execution_count": 675,
   "id": "3f547fe6",
   "metadata": {},
   "outputs": [],
   "source": [
    "def recu(current_itemset=None,C1={},C2={},dataset=None,min_support=0,frequent_max={}):\n",
    "    global generation\n",
    "    global updated_itemset\n",
    "    itemset_counts ={}\n",
    "    if current_itemset ==set():\n",
    "        print(\"condition d'arret\")\n",
    "        print(\"les itemset frequent max\",frequent_max)\n",
    "        return C1   \n",
    "    else:\n",
    "        i=1\n",
    "        for itemset in current_itemset:\n",
    "            generation = generer_combinaisons(list(itemset))\n",
    "            print(\"le itemset numéro\",i,\" de longeur \",len(list(itemset)))\n",
    "            i=i+1\n",
    "            print(generation)\n",
    "            itemset_counts = calculate_support(dataset, generation)\n",
    "            for cle, valeur in itemset_counts.items():\n",
    "                if valeur>=min_support:\n",
    "                    frequent_max[cle] = valeur\n",
    "                    generation.remove(cle)\n",
    "            print(itemset_counts)\n",
    "            print(generation)\n",
    "            current_itemset= generation.copy()\n",
    "            print(\"valeur vide\",current_itemset)\n",
    "            if not set(generation) in C1:\n",
    "                C1.update(generation)\n",
    "                print('coucou C1',C1)\n",
    "        return recu(current_itemset,C1,C2,dataset,min_support,frequent_max)"
   ]
  },
  {
   "cell_type": "code",
   "execution_count": 676,
   "id": "94991d4f",
   "metadata": {},
   "outputs": [],
   "source": [
    "def apriori(dataset, min_support=0):\n",
    "    frequent_itemsets = {}\n",
    "    frequent_max={}\n",
    "    k = 1\n",
    "    frequent_1_itemsets = generate_frequent_1_itemsets(dataset, min_support)\n",
    "    frequent_itemsets.update(frequent_1_itemsets)\n",
    "    sorted_frequent_itemsets = dict(sorted(frequent_itemsets.items(), key=lambda item:item[1], reverse=True))\n",
    "    print('les itemsets frequents ordre décroissant',sorted_frequent_itemsets)\n",
    "    print(\"support de 1-items \",sorted_frequent_itemsets)\n",
    "    resultat = generer_combinaisons(list(sorted_frequent_itemsets.keys()))\n",
    "    print(\"Génération des premiers subsets\",resultat)\n",
    "    for x in resultat:\n",
    "        itemset_counts = calculate_support(dataset, resultat)\n",
    "    print(\"support de 1-items\",itemset_counts)\n",
    "    for cle, valeur in itemset_counts.items():\n",
    "            if valeur>=min_support:\n",
    "                frequent_max[cle] = valeur\n",
    "                resultat.remove(cle)    \n",
    "    print(\"les itemsets non frequent dont on va déploier\",resultat)\n",
    "    c=set()\n",
    "    c2=set()\n",
    "    r=recu(resultat,c,c2,dataset,min_support,frequent_max)"
   ]
  },
  {
   "cell_type": "code",
   "execution_count": 678,
   "id": "10caa518",
   "metadata": {},
   "outputs": [
    {
     "name": "stdout",
     "output_type": "stream",
     "text": [
      "les itemsets frequents ordre décroissant {'A': 4, 'B': 3, 'C': 3, 'D': 3}\n",
      "support de 1-items  {'A': 4, 'B': 3, 'C': 3, 'D': 3}\n",
      "Génération des premiers subsets {('A', 'B', 'C'), ('A', 'C', 'D'), ('A', 'B', 'D'), ('B', 'C', 'D')}\n",
      "support de 1-items {('B', 'C', 'D'): 2, ('A', 'B', 'C'): 1, ('A', 'C', 'D'): 1, ('A', 'B', 'D'): 1}\n",
      "les itemsets non frequent dont on va déploier {('A', 'B', 'C'), ('A', 'C', 'D'), ('A', 'B', 'D')}\n",
      "le itemset numéro 1  de longeur  3\n",
      "{('A', 'C'), ('B', 'C'), ('A', 'B')}\n",
      "{('A', 'B'): 2, ('A', 'C'): 2, ('B', 'C'): 2}\n",
      "set()\n",
      "valeur vide set()\n",
      "coucou C1 set()\n",
      "le itemset numéro 2  de longeur  3\n",
      "{('C', 'D'), ('A', 'C'), ('A', 'D')}\n",
      "{('A', 'C'): 2, ('A', 'D'): 2, ('C', 'D'): 2}\n",
      "set()\n",
      "valeur vide set()\n",
      "coucou C1 set()\n",
      "le itemset numéro 3  de longeur  3\n",
      "{('B', 'D'), ('A', 'D'), ('A', 'B')}\n",
      "{('A', 'B'): 2, ('A', 'D'): 2, ('B', 'D'): 2}\n",
      "set()\n",
      "valeur vide set()\n",
      "coucou C1 set()\n",
      "condition d'arret\n",
      "les itemset frequent max {('B', 'C', 'D'): 2, ('A', 'B'): 2, ('A', 'C'): 2, ('B', 'C'): 2, ('A', 'D'): 2, ('C', 'D'): 2, ('B', 'D'): 2}\n"
     ]
    }
   ],
   "source": [
    "apriori(dataset,2)"
   ]
  },
  {
   "cell_type": "code",
   "execution_count": null,
   "id": "6c7fc5b0",
   "metadata": {},
   "outputs": [],
   "source": []
  },
  {
   "cell_type": "code",
   "execution_count": null,
   "id": "dc91cf1c",
   "metadata": {},
   "outputs": [],
   "source": []
  },
  {
   "cell_type": "code",
   "execution_count": null,
   "id": "19b2b889",
   "metadata": {},
   "outputs": [],
   "source": []
  }
 ],
 "metadata": {
  "kernelspec": {
   "display_name": "Python 3",
   "language": "python",
   "name": "python3"
  },
  "language_info": {
   "codemirror_mode": {
    "name": "ipython",
    "version": 3
   },
   "file_extension": ".py",
   "mimetype": "text/x-python",
   "name": "python",
   "nbconvert_exporter": "python",
   "pygments_lexer": "ipython3",
   "version": "3.8.8"
  }
 },
 "nbformat": 4,
 "nbformat_minor": 5
}
