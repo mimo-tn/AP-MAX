{
 "cells": [
  {
   "cell_type": "code",
   "execution_count": 135,
   "id": "73c66430",
   "metadata": {},
   "outputs": [],
   "source": [
    "import itertools"
   ]
  },
  {
   "cell_type": "code",
   "execution_count": 136,
   "id": "9beff065",
   "metadata": {},
   "outputs": [],
   "source": [
    "dataset = [\n",
    "    ['A', 'B'],\n",
    "    ['A', 'C'],\n",
    "    ['A', 'D'],\n",
    "    ['B', 'C', 'D'],\n",
    "    ['A', 'B', 'C', 'D'],\n",
    "]\n"
   ]
  },
  {
   "cell_type": "code",
   "execution_count": 137,
   "id": "aee793e7",
   "metadata": {},
   "outputs": [],
   "source": [
    "def generate_frequent_1_itemsets(dataset, min_support):\n",
    "    frequent_1_itemsets = {}\n",
    "    for transaction in dataset:\n",
    "        for item in transaction:\n",
    "            if item in frequent_1_itemsets:\n",
    "                frequent_1_itemsets[item] += 1\n",
    "            else:\n",
    "                frequent_1_itemsets[item] = 1\n",
    "\n",
    "    frequent_1_itemsets = {item: support for item, support in frequent_1_itemsets.items() if support >= min_support}\n",
    "    return frequent_1_itemsets"
   ]
  },
  {
   "cell_type": "code",
   "execution_count": 138,
   "id": "a61882f5",
   "metadata": {},
   "outputs": [],
   "source": [
    "def generer_combinaisons(liste):\n",
    "    combinaisons = []\n",
    "    if(len(liste)>0):\n",
    "        for r in range(len(liste) - 1, len(liste)):\n",
    "            combinaisons.extend(list(itertools.combinations(liste, r)))\n",
    "    combinaisons_uniques = set(combinaisons)\n",
    "    return combinaisons_uniques"
   ]
  },
  {
   "cell_type": "code",
   "execution_count": 139,
   "id": "c3587f50",
   "metadata": {},
   "outputs": [],
   "source": [
    "def calculate_support(dataset, itemsets):\n",
    "    itemset_counts = {}\n",
    "    for transaction in dataset:\n",
    "        for itemset in itemsets:\n",
    "            if set(itemset).issubset(transaction):\n",
    "                if tuple(itemset) in itemset_counts:\n",
    "                    itemset_counts[tuple(itemset)] += 1\n",
    "                else:\n",
    "                    itemset_counts[tuple(itemset)] = 1\n",
    "    return {itemset: support for itemset, support in itemset_counts.items()}\n",
    "\n"
   ]
  },
  {
   "cell_type": "code",
   "execution_count": 140,
   "id": "3f547fe6",
   "metadata": {},
   "outputs": [],
   "source": [
    "def recu(current_itemset=None,C1={}):\n",
    "    global generation\n",
    "    global updated_itemset\n",
    "    #global frequent_itemsets\n",
    "    if current_itemset =={()}:\n",
    "        return C1   \n",
    "    else:\n",
    "        i=1\n",
    "        for itemset in current_itemset:\n",
    "            generation = generer_combinaisons(list(itemset))\n",
    "            print(\"le itemset numéro\",i,\" de longeur \",len(list(itemset)))\n",
    "            i=i+1\n",
    "            print(generation)\n",
    "            # Recursively find frequent itemsets\n",
    "            current_itemset= generation.copy()\n",
    "            #updated_itemset = generation.copy()\n",
    "            #updated_itemset.add(itemset)\n",
    "            #frequent_itemsets=\n",
    "            #frequent_itemsets=recu(updated_itemset)\n",
    "            #if generation not in C1:\n",
    "                #C1.append(generation)\n",
    "                #print('coucou C1',C1)\n",
    "            if not set(generation) in C1:\n",
    "                C1.update(generation)\n",
    "                print('coucou C1',C1)\n",
    "        return recu(current_itemset,C1)"
   ]
  },
  {
   "cell_type": "code",
   "execution_count": 141,
   "id": "94991d4f",
   "metadata": {},
   "outputs": [],
   "source": [
    "def apriori(dataset, min_support):\n",
    "    frequent_itemsets = {}\n",
    "    k = 1\n",
    "    frequent_1_itemsets = generate_frequent_1_itemsets(dataset, min_support)\n",
    "    frequent_itemsets.update(frequent_1_itemsets)\n",
    "    sorted_frequent_itemsets = dict(sorted(frequent_itemsets.items(), key=lambda item:item[1], reverse=True))\n",
    "    print(sorted_frequent_itemsets)\n",
    "    print('sorted_frequent_itemsets est',type(sorted_frequent_itemsets))\n",
    "    l=list(sorted_frequent_itemsets.keys())\n",
    "    print('l est ',type(l),'l est',l)\n",
    "    lconcat=[]\n",
    "#    for i in range(len(l)):\n",
    "#        lconcat.append(l[i])\n",
    "#    print(set(lconcat))\n",
    "    print(\"Liste des 1-items triée d'une facons décroissante\",set(sorted_frequent_itemsets.keys()))\n",
    "    print(\"support de 1-items \",sorted_frequent_itemsets)\n",
    "    resultat = generer_combinaisons(list(sorted_frequent_itemsets.keys()))\n",
    "    print(\"Génération des premiers subsets\",resultat)\n",
    "    #print(type(resultat))\n",
    "    c=set()\n",
    "    c.update(resultat)\n",
    "    #c=[]\n",
    "    #r=recu(set(sorted_frequent_itemsets.keys()),c)\n",
    "    r=recu(resultat,c)\n",
    "    #r.update(resultat)\n",
    "    #r.update(list(sorted_frequent_itemsets))\n",
    "    print('cccccc',r)\n",
    "    print(type(r))\n",
    "    for x in resultat :\n",
    "        generation = generer_combinaisons(list(x))\n",
    "        print(generation)\n",
    "    for x in generation :\n",
    "        generation1 = generer_combinaisons(list(x))\n",
    "        print(generation1)\n",
    "    for x in generation1 :\n",
    "        generation2 = generer_combinaisons(list(x))\n",
    "        print(generation2)\n",
    "#    print(resultat1)\n",
    "#    while resultat:\n",
    "#        itemset_counts = calculate_support(dataset, resultat)\n",
    "#        print(itemset_counts)\n",
    "#        itemset_counts = calculate_support(dataset, generation)\n",
    "#        print(itemset_counts)\n",
    "#        itemset_counts = calculate_support(dataset, generation1)\n",
    "#        print(itemset_counts)\n",
    "#        itemset_counts = calculate_support(dataset, generation2)\n",
    "#        print(itemset_counts)"
   ]
  },
  {
   "cell_type": "code",
   "execution_count": 142,
   "id": "10caa518",
   "metadata": {},
   "outputs": [
    {
     "name": "stdout",
     "output_type": "stream",
     "text": [
      "{'A': 4, 'B': 3, 'C': 3, 'D': 3}\n",
      "sorted_frequent_itemsets est <class 'dict'>\n",
      "l est  <class 'list'> l est ['A', 'B', 'C', 'D']\n",
      "Liste des 1-items triée d'une facons décroissante {'C', 'A', 'D', 'B'}\n",
      "support de 1-items  {'A': 4, 'B': 3, 'C': 3, 'D': 3}\n",
      "Génération des premiers subsets {('A', 'B', 'C'), ('A', 'C', 'D'), ('A', 'B', 'D'), ('B', 'C', 'D')}\n",
      "le itemset numéro 1  de longeur  3\n",
      "{('A', 'C'), ('B', 'C'), ('A', 'B')}\n",
      "coucou C1 {('A', 'C', 'D'), ('B', 'C'), ('B', 'C', 'D'), ('A', 'B'), ('A', 'B', 'C'), ('A', 'B', 'D'), ('A', 'C')}\n",
      "le itemset numéro 2  de longeur  3\n",
      "{('C', 'D'), ('A', 'C'), ('A', 'D')}\n",
      "coucou C1 {('A', 'C', 'D'), ('A', 'B'), ('A', 'B', 'C'), ('A', 'D'), ('B', 'C'), ('B', 'C', 'D'), ('C', 'D'), ('A', 'C'), ('A', 'B', 'D')}\n",
      "le itemset numéro 3  de longeur  3\n",
      "{('B', 'D'), ('A', 'D'), ('A', 'B')}\n",
      "coucou C1 {('A', 'C', 'D'), ('B', 'D'), ('A', 'B'), ('A', 'B', 'C'), ('A', 'D'), ('B', 'C'), ('B', 'C', 'D'), ('C', 'D'), ('A', 'C'), ('A', 'B', 'D')}\n",
      "le itemset numéro 4  de longeur  3\n",
      "{('C', 'D'), ('B', 'C'), ('B', 'D')}\n",
      "coucou C1 {('A', 'C', 'D'), ('B', 'D'), ('A', 'B'), ('A', 'B', 'C'), ('A', 'D'), ('B', 'C'), ('B', 'C', 'D'), ('C', 'D'), ('A', 'C'), ('A', 'B', 'D')}\n",
      "le itemset numéro 1  de longeur  2\n",
      "{('C',), ('D',)}\n",
      "coucou C1 {('A', 'C', 'D'), ('B', 'D'), ('A', 'B'), ('A', 'B', 'C'), ('C',), ('A', 'D'), ('B', 'C'), ('D',), ('B', 'C', 'D'), ('C', 'D'), ('A', 'C'), ('A', 'B', 'D')}\n",
      "le itemset numéro 2  de longeur  2\n",
      "{('C',), ('B',)}\n",
      "coucou C1 {('A', 'C', 'D'), ('B', 'D'), ('A', 'B'), ('A', 'B', 'C'), ('C',), ('A', 'D'), ('B',), ('B', 'C'), ('D',), ('B', 'C', 'D'), ('C', 'D'), ('A', 'C'), ('A', 'B', 'D')}\n",
      "le itemset numéro 3  de longeur  2\n",
      "{('D',), ('B',)}\n",
      "coucou C1 {('A', 'C', 'D'), ('B', 'D'), ('A', 'B'), ('A', 'B', 'C'), ('C',), ('A', 'D'), ('B',), ('B', 'C'), ('D',), ('B', 'C', 'D'), ('C', 'D'), ('A', 'C'), ('A', 'B', 'D')}\n",
      "le itemset numéro 1  de longeur  1\n",
      "{()}\n",
      "coucou C1 {('A', 'C', 'D'), ('B', 'D'), ('A', 'B'), ('A', 'B', 'C'), ('C',), ('A', 'D'), (), ('B',), ('B', 'C'), ('D',), ('B', 'C', 'D'), ('C', 'D'), ('A', 'C'), ('A', 'B', 'D')}\n",
      "le itemset numéro 2  de longeur  1\n",
      "{()}\n",
      "coucou C1 {('A', 'C', 'D'), ('B', 'D'), ('A', 'B'), ('A', 'B', 'C'), ('C',), ('A', 'D'), (), ('B',), ('B', 'C'), ('D',), ('B', 'C', 'D'), ('C', 'D'), ('A', 'C'), ('A', 'B', 'D')}\n",
      "cccccc {('A', 'C', 'D'), ('B', 'D'), ('A', 'B'), ('A', 'B', 'C'), ('C',), ('A', 'D'), (), ('B',), ('B', 'C'), ('D',), ('B', 'C', 'D'), ('C', 'D'), ('A', 'C'), ('A', 'B', 'D')}\n",
      "<class 'set'>\n",
      "{('A', 'C'), ('B', 'C'), ('A', 'B')}\n",
      "{('C', 'D'), ('A', 'C'), ('A', 'D')}\n",
      "{('B', 'D'), ('A', 'D'), ('A', 'B')}\n",
      "{('C', 'D'), ('B', 'C'), ('B', 'D')}\n",
      "{('C',), ('D',)}\n",
      "{('C',), ('B',)}\n",
      "{('D',), ('B',)}\n",
      "{()}\n",
      "{()}\n"
     ]
    }
   ],
   "source": [
    "apriori(dataset,2)"
   ]
  },
  {
   "cell_type": "code",
   "execution_count": null,
   "id": "6c7fc5b0",
   "metadata": {},
   "outputs": [],
   "source": []
  },
  {
   "cell_type": "code",
   "execution_count": null,
   "id": "dc91cf1c",
   "metadata": {},
   "outputs": [],
   "source": []
  },
  {
   "cell_type": "code",
   "execution_count": null,
   "id": "19b2b889",
   "metadata": {},
   "outputs": [],
   "source": []
  }
 ],
 "metadata": {
  "kernelspec": {
   "display_name": "Python 3",
   "language": "python",
   "name": "python3"
  },
  "language_info": {
   "codemirror_mode": {
    "name": "ipython",
    "version": 3
   },
   "file_extension": ".py",
   "mimetype": "text/x-python",
   "name": "python",
   "nbconvert_exporter": "python",
   "pygments_lexer": "ipython3",
   "version": "3.8.8"
  }
 },
 "nbformat": 4,
 "nbformat_minor": 5
}
